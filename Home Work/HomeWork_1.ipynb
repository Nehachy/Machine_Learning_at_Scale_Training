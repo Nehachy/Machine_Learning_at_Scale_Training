{
 "cells": [
  {
   "cell_type": "markdown",
   "metadata": {},
   "source": [
    "# DAMLAS - Machine Learning At Scale\n",
    "## Assignment - HW1\n",
    "Data Analytics and Machine Learning at Scale\n",
    "Target, Bangalore\n",
    "\n",
    "---\n",
    "    __Name:__  Neha Choudhary  "
   ]
  },
  {
   "cell_type": "markdown",
   "metadata": {},
   "source": [
    "# Table of Contents <a name=\"TOC\"></a> \n",
    "\n",
    "1.  [HW Introduction](#1)   \n",
    "2.  [HW References](#2)\n",
    "3.  [HW  Problems](#3)   \n",
    "    1.0.  [HW1.1](#1.1)   \n",
    "    1.2.  [HW1.2](#1.2)   \n",
    "    1.3.  [HW1.3](#1.3)    \n",
    "    1.4.  [HW1.4](#1.4)    \n",
    "    "
   ]
  },
  {
   "cell_type": "markdown",
   "metadata": {},
   "source": [
    "\n",
    "<a name=\"1\">\n",
    "# 1 Instructions\n",
    "[Back to Table of Contents](#TOC)\n",
    "* Homework submissions are due by Tuesday, 08/30/2016 at 11:30AM.\n",
    "\n",
    "\n",
    "* Prepare a single Jupyter notebook (not a requirment), please include questions, and question numbers in the questions and in the responses.\n",
    "Submit your homework notebook via the following form:\n",
    "\n",
    "   + [Submission Link - Google Form](http://goo.gl/forms/er3OFr5eCMWDngB72)\n",
    "\n",
    "\n",
    "### Documents:\n",
    "* IPython Notebook, published and viewable online.\n",
    "* PDF export of IPython Notebook.\n",
    "\n",
    "<a name=\"2\">\n",
    "# 2 Useful References\n",
    "[Back to Table of Contents](#TOC)\n",
    "\n",
    "* [Slides from lecture: Python Review for Data Scientists + Python review](https://www.dropbox.com/s/8gko9uuwfgnwit4/Python-For-Data-Science-Review-2016-08-29.pdf?dl=0)\n",
    "* [Word Count example using basic Python](https://www.dropbox.com/s/7z6dnlam76irqbo/Chp3-Visualizing-Data-via-matplotlib.ipynb?dl=0)\n",
    "* [Everything you want to know about dictionaries in Python](http://openbookproject.net/thinkcs/python/english3e/dictionaries.html)\n",
    "---\n"
   ]
  },
  {
   "cell_type": "markdown",
   "metadata": {},
   "source": [
    "# 3.  HW1  <a name=\"3\"></a>\n",
    "[Back to Table of Contents](#TOC)\n",
    "---"
   ]
  },
  {
   "cell_type": "markdown",
   "metadata": {},
   "source": [
    "## 3.  HW1.1  <a name=\"1.1\"></a>\n",
    "[Back to Table of Contents](#TOC)"
   ]
  },
  {
   "cell_type": "markdown",
   "metadata": {},
   "source": [
    "* [Reference: Everything you want to know about dictionaries in Python](http://openbookproject.net/thinkcs/python/english3e/dictionaries.html)\n"
   ]
  },
  {
   "cell_type": "markdown",
   "metadata": {},
   "source": [
    "__Description__\n",
    "Write a program that reads a string and returns a table of the letters of the alphabet in alphabetical order which occur in the string together with the number of times each letter occurs. Case should be ignored. A sample output of the program when the user enters the data “ThiS is String with Upper and lower case Letters”, would look this this:"
   ]
  },
  {
   "cell_type": "raw",
   "metadata": {},
   "source": [
    "a  2\n",
    "c  1\n",
    "d  1\n",
    "e  5\n",
    "g  1\n",
    "h  2\n",
    "i  4\n",
    "l  2\n",
    "n  2\n",
    "o  1\n",
    "p  2\n",
    "r  4\n",
    "s  5\n",
    "t  5\n",
    "u  1\n",
    "w  2"
   ]
  },
  {
   "cell_type": "code",
   "execution_count": 1,
   "metadata": {
    "collapsed": false
   },
   "outputs": [
    {
     "name": "stdout",
     "output_type": "stream",
     "text": [
      "a 2\n",
      "c 1\n",
      "d 1\n",
      "e 1\n",
      "h 3\n",
      "n 1\n",
      "o 1\n",
      "r 1\n",
      "u 1\n",
      "y 1\n"
     ]
    }
   ],
   "source": [
    "def char_counter(string):\n",
    " counts = {}\n",
    " string = [a.lower() for a in string if a!=\" \"]\n",
    " for c in string:\n",
    "    counts[c] = counts.get(c, 0) + 1\n",
    " for c, n in sorted(counts.items()):\n",
    "    print c, n\n",
    "char_counter('Neha Choudhary')"
   ]
  },
  {
   "cell_type": "markdown",
   "metadata": {},
   "source": [
    "## 3.  HW1.2  <a name=\"1.2\"></a>\n",
    "[Back to Table of Contents](#TOC)\n",
    "Give the Python interpreter’s response to each of the following from a continuous interpreter session:"
   ]
  },
  {
   "cell_type": "code",
   "execution_count": 16,
   "metadata": {
    "collapsed": false
   },
   "outputs": [
    {
     "data": {
      "text/plain": [
       "35"
      ]
     },
     "execution_count": 16,
     "metadata": {},
     "output_type": "execute_result"
    }
   ],
   "source": [
    "d = {\"apples\": 15, \"bananas\": 35, \"grapes\": 12}\n",
    "d[\"bananas\"]"
   ]
  },
  {
   "cell_type": "code",
   "execution_count": 17,
   "metadata": {
    "collapsed": false
   },
   "outputs": [
    {
     "data": {
      "text/plain": [
       "4"
      ]
     },
     "execution_count": 17,
     "metadata": {},
     "output_type": "execute_result"
    }
   ],
   "source": [
    "d[\"oranges\"] = 20\n",
    "len(d)"
   ]
  },
  {
   "cell_type": "code",
   "execution_count": 18,
   "metadata": {
    "collapsed": false
   },
   "outputs": [
    {
     "data": {
      "text/plain": [
       "True"
      ]
     },
     "execution_count": 18,
     "metadata": {},
     "output_type": "execute_result"
    }
   ],
   "source": [
    "\"grapes\" in d"
   ]
  },
  {
   "cell_type": "code",
   "execution_count": 19,
   "metadata": {
    "collapsed": false
   },
   "outputs": [
    {
     "ename": "KeyError",
     "evalue": "'pears'",
     "output_type": "error",
     "traceback": [
      "\u001b[0;31m---------------------------------------------------------------------------\u001b[0m",
      "\u001b[0;31mKeyError\u001b[0m                                  Traceback (most recent call last)",
      "\u001b[0;32m<ipython-input-19-fd5e266bd276>\u001b[0m in \u001b[0;36m<module>\u001b[0;34m()\u001b[0m\n\u001b[0;32m----> 1\u001b[0;31m \u001b[0md\u001b[0m\u001b[0;34m[\u001b[0m\u001b[0;34m\"pears\"\u001b[0m\u001b[0;34m]\u001b[0m\u001b[0;34m\u001b[0m\u001b[0m\n\u001b[0m",
      "\u001b[0;31mKeyError\u001b[0m: 'pears'"
     ]
    }
   ],
   "source": [
    "d[\"pears\"]"
   ]
  },
  {
   "cell_type": "code",
   "execution_count": 20,
   "metadata": {
    "collapsed": false
   },
   "outputs": [
    {
     "data": {
      "text/plain": [
       "0"
      ]
     },
     "execution_count": 20,
     "metadata": {},
     "output_type": "execute_result"
    }
   ],
   "source": [
    "d.get(\"pears\", 0)"
   ]
  },
  {
   "cell_type": "code",
   "execution_count": 21,
   "metadata": {
    "collapsed": false
   },
   "outputs": [
    {
     "name": "stdout",
     "output_type": "stream",
     "text": [
      "['apples', 'bananas', 'grapes', 'oranges']\n"
     ]
    }
   ],
   "source": [
    "fruits = list(d.keys())\n",
    "fruits.sort()\n",
    "print(fruits)"
   ]
  },
  {
   "cell_type": "code",
   "execution_count": 12,
   "metadata": {
    "collapsed": false
   },
   "outputs": [
    {
     "name": "stdout",
     "output_type": "stream",
     "text": [
      "['apples', 'bananas', 'grapes', 'oranges']\n"
     ]
    },
    {
     "data": {
      "text/plain": [
       "False"
      ]
     },
     "execution_count": 12,
     "metadata": {},
     "output_type": "execute_result"
    }
   ],
   "source": [
    "del d[\"apples\"]\n",
    "\"apples\" in d"
   ]
  },
  {
   "cell_type": "markdown",
   "metadata": {},
   "source": [
    "__Be sure you understand why you get each result. Then apply what you have learned to fill in the body of the function below:__"
   ]
  },
  {
   "cell_type": "code",
   "execution_count": 3,
   "metadata": {
    "collapsed": false
   },
   "outputs": [
    {
     "name": "stdout",
     "output_type": "stream",
     "text": [
      "True\n"
     ]
    }
   ],
   "source": [
    "def add_fruit(inventory, fruit, quantity=0):\n",
    "    inventory[fruit] = quantity\n",
    "    return\n",
    "    \n",
    "def test(string):\n",
    "    x = string\n",
    "    print(x)\n",
    "    return\n",
    "\n",
    "new_inventory = {}\n",
    "add_fruit(new_inventory, \"strawberries\", 10)\n",
    "test(\"strawberries\" in new_inventory)"
   ]
  },
  {
   "cell_type": "code",
   "execution_count": 4,
   "metadata": {
    "collapsed": false
   },
   "outputs": [
    {
     "name": "stdout",
     "output_type": "stream",
     "text": [
      "True\n"
     ]
    }
   ],
   "source": [
    "test(new_inventory[\"strawberries\"] == 10)"
   ]
  },
  {
   "cell_type": "code",
   "execution_count": 26,
   "metadata": {
    "collapsed": false
   },
   "outputs": [
    {
     "name": "stdout",
     "output_type": "stream",
     "text": [
      "False\n"
     ]
    }
   ],
   "source": [
    "add_fruit(new_inventory, \"strawberries\", 25)\n",
    "test(new_inventory[\"strawberries\"] == 35)"
   ]
  },
  {
   "cell_type": "markdown",
   "metadata": {},
   "source": [
    "## 3.  HW1.3  <a name=\"1.3\"></a>\n",
    "[Back to Table of Contents](#TOC)\n",
    "\n",
    "Write a program called alice_words.py that creates a text file named __alice_words.txt__ containing an alphabetical listing of all the words, and the number of times each occurs, in the text version of Alice’s Adventures in Wonderland. (You can obtain a free plain text version of the book, along with many others, from [here](http://www.gutenberg.org.) The first 10 lines of your output file should look something like this:"
   ]
  },
  {
   "cell_type": "raw",
   "metadata": {},
   "source": [
    "Word              Count\n",
    "=======================\n",
    "a                 631\n",
    "a-piece           1\n",
    "abide             1\n",
    "able              1\n",
    "about             94\n",
    "above             3\n",
    "absence           1\n",
    "absurd            2"
   ]
  },
  {
   "cell_type": "markdown",
   "metadata": {},
   "source": [
    "How many times does the word alice occur in the book?"
   ]
  },
  {
   "cell_type": "code",
   "execution_count": 6,
   "metadata": {
    "collapsed": false
   },
   "outputs": [
    {
     "name": "stdout",
     "output_type": "stream",
     "text": [
      "  % Total    % Received % Xferd  Average Speed   Time    Time     Time  Current\n",
      "                                 Dload  Upload   Total   Spent    Left  Speed\n",
      "100  1318  100  1318    0     0   1886      0 --:--:-- --:--:-- --:--:--  1885\n"
     ]
    }
   ],
   "source": [
    "!curl 'http://www.gutenberg.org/cache/epub/11/pg11.txt' -o alice_text.txt"
   ]
  },
  {
   "cell_type": "code",
   "execution_count": 9,
   "metadata": {
    "collapsed": false
   },
   "outputs": [
    {
     "name": "stdout",
     "output_type": "stream",
     "text": [
      "﻿The Project Gutenberg EBook of Alice in Wonderland, by Lewis Carroll\r",
      "\r\n",
      "\r",
      "\r\n",
      "This eBook is for the use of anyone anywhere at no cost and with\r",
      "\r\n",
      "almost no restrictions whatsoever.  You may copy it, give it away or\r",
      "\r\n",
      "re-use it under the terms of the Project Gutenberg License included\r",
      "\r\n",
      "with this eBook or online at www.gutenberg.org\r",
      "\r\n",
      "\r",
      "\r\n",
      "\r",
      "\r\n",
      "Title: Alice in Wonderland\r",
      "\r\n",
      "\r",
      "\r\n"
     ]
    }
   ],
   "source": [
    "!head alice_text.txt"
   ]
  },
  {
   "cell_type": "code",
   "execution_count": 81,
   "metadata": {
    "collapsed": false,
    "scrolled": false
   },
   "outputs": [
    {
     "name": "stdout",
     "output_type": "stream",
     "text": [
      "Word count for Alice is 177\n"
     ]
    }
   ],
   "source": [
    "import re\n",
    "\n",
    "wordcount={} \n",
    "header = \"\"\"Word              Count\n",
    "=======================\n",
    "\"\"\"\n",
    "def word_counter(filepath):\n",
    "  f = open(filepath)\n",
    "  for line in f:\n",
    "     cl = re.sub('\\W+', \" \",line )\n",
    "     cl = cl.lower()\n",
    "     words = cl.split()  \n",
    "     for word in words:\n",
    "            if word not in wordcount:\n",
    "                wordcount[word] = 1\n",
    "            else:\n",
    "                wordcount[word] += 1\n",
    "        \n",
    "  wc_key = list(wordcount.keys())\n",
    "  wc_key.sort()\n",
    "  print (\"Word count for %s is %d\" %('Alice', wordcount[\"alice\"]))\n",
    "  return wordcount\n",
    "\n",
    "def createtxt(inputmap):\n",
    "    \n",
    "    f = open('/Users/z071103/alice_text.txt','w')\n",
    "    f.write(header)\n",
    "    \n",
    "    for k in sorted(inputmap):\n",
    "        value = inputmap.get(k)\n",
    "        f.write(str(k)+'\\t\\t\\t'+ str(value)+\"\\n\")\n",
    "    f.close()\n",
    "        \n",
    "word_counter(\"alice_text.txt\")\n",
    "createtxt(wordcount)\n"
   ]
  },
  {
   "cell_type": "markdown",
   "metadata": {},
   "source": [
    "## 3.  HW1.4  <a name=\"1.4\"></a>\n",
    "[Back to Table of Contents](#TOC)\n",
    "\n",
    "What is the longest word in Alice in Wonderland? How many characters does it have?"
   ]
  },
  {
   "cell_type": "code",
   "execution_count": 71,
   "metadata": {
    "collapsed": false,
    "scrolled": true
   },
   "outputs": [
    {
     "name": "stdout",
     "output_type": "stream",
     "text": [
      "['unenforceability'] 16\n"
     ]
    }
   ],
   "source": [
    "import re\n",
    "\n",
    "wordcount={} \n",
    "\n",
    "def word_counter(filepath):\n",
    "  f = open(filepath)\n",
    "  for line in f:\n",
    "     cl = re.sub('\\W+', \" \",line )\n",
    "     cl = cl.lower()\n",
    "     words = cl.split()  \n",
    "     for word in words:\n",
    "        wordcount[word] = len(word)\n",
    "        \n",
    "  maxx = max(wordcount.values()) \n",
    "  keys = [x for x,y in wordcount.items() if y ==maxx]\n",
    "  print keys, maxx\n",
    " \n",
    "word_counter(\"alice_text.txt\")\n"
   ]
  },
  {
   "cell_type": "code",
   "execution_count": null,
   "metadata": {
    "collapsed": true
   },
   "outputs": [],
   "source": []
  },
  {
   "cell_type": "code",
   "execution_count": null,
   "metadata": {
    "collapsed": true
   },
   "outputs": [],
   "source": []
  },
  {
   "cell_type": "code",
   "execution_count": null,
   "metadata": {
    "collapsed": true
   },
   "outputs": [],
   "source": []
  }
 ],
 "metadata": {
  "anaconda-cloud": {},
  "kernelspec": {
   "display_name": "Python 2",
   "language": "python",
   "name": "python2"
  },
  "language_info": {
   "codemirror_mode": {
    "name": "ipython",
    "version": 2
   },
   "file_extension": ".py",
   "mimetype": "text/x-python",
   "name": "python",
   "nbconvert_exporter": "python",
   "pygments_lexer": "ipython2",
   "version": "2.7.10"
  }
 },
 "nbformat": 4,
 "nbformat_minor": 0
}
